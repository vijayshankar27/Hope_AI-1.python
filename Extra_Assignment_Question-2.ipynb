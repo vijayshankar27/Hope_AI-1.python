{
 "cells": [
  {
   "cell_type": "code",
   "execution_count": 1,
   "id": "942432c0-baae-49f4-9c6d-b3ece863793a",
   "metadata": {},
   "outputs": [],
   "source": [
    "# print 0 to 20 by using range"
   ]
  },
  {
   "cell_type": "code",
   "execution_count": 3,
   "id": "3ff6cad0-de7c-45e7-b8ee-08f8ae0d1d8e",
   "metadata": {},
   "outputs": [
    {
     "name": "stdout",
     "output_type": "stream",
     "text": [
      "0\n",
      "1\n",
      "2\n",
      "3\n",
      "4\n",
      "5\n",
      "6\n",
      "7\n",
      "8\n",
      "9\n",
      "10\n",
      "11\n",
      "12\n",
      "13\n",
      "14\n",
      "15\n",
      "16\n",
      "17\n",
      "18\n",
      "19\n"
     ]
    }
   ],
   "source": [
    "for i in range (0,20):\n",
    "    print(i)"
   ]
  },
  {
   "cell_type": "code",
   "execution_count": 5,
   "id": "36d73c67-42a9-416a-a9ba-f381f3a3f351",
   "metadata": {},
   "outputs": [],
   "source": [
    "# print range 10 to 20"
   ]
  },
  {
   "cell_type": "code",
   "execution_count": 7,
   "id": "453278ce-af92-4774-8e72-98c8b5a4aad6",
   "metadata": {},
   "outputs": [
    {
     "name": "stdout",
     "output_type": "stream",
     "text": [
      "10\n",
      "11\n",
      "12\n",
      "13\n",
      "14\n",
      "15\n",
      "16\n",
      "17\n",
      "18\n",
      "19\n"
     ]
    }
   ],
   "source": [
    "for i in range (10,20):\n",
    "    print(i)"
   ]
  },
  {
   "cell_type": "code",
   "execution_count": 9,
   "id": "f22f442b-cacd-45f7-892c-048b29289f1a",
   "metadata": {},
   "outputs": [],
   "source": [
    "# Print number of items in the list by using 'len'"
   ]
  },
  {
   "cell_type": "code",
   "execution_count": 11,
   "id": "6d0cfdcc-c64a-4ce6-bc60-fc0aba308292",
   "metadata": {},
   "outputs": [
    {
     "name": "stdout",
     "output_type": "stream",
     "text": [
      "Number of item in the List2:\n",
      "7\n"
     ]
    }
   ],
   "source": [
    "List2=[10,20,30,40,10,45,22]\n",
    "print(\"Number of item in the List2:\")\n",
    "print(len(List2))"
   ]
  },
  {
   "cell_type": "code",
   "execution_count": 13,
   "id": "3fc4af9f-5ed2-4a3c-96ba-55006f3ef217",
   "metadata": {},
   "outputs": [
    {
     "name": "stdout",
     "output_type": "stream",
     "text": [
      "Artificial Intelligence\n",
      "A\n",
      "r\n",
      "t\n",
      "i\n",
      "f\n",
      "i\n",
      "c\n",
      "i\n",
      "a\n",
      "l\n",
      " \n",
      "I\n",
      "n\n",
      "t\n",
      "e\n",
      "l\n",
      "l\n",
      "i\n",
      "g\n",
      "e\n",
      "n\n",
      "c\n",
      "e\n"
     ]
    }
   ],
   "source": [
    "test='Artificial Intelligence'\n",
    "print(test)\n",
    "for i in test:\n",
    "    print(i)    \n"
   ]
  },
  {
   "cell_type": "code",
   "execution_count": 23,
   "id": "c7582cf5-3647-4fa8-a027-037d287c0ce5",
   "metadata": {},
   "outputs": [
    {
     "name": "stdin",
     "output_type": "stream",
     "text": [
      "-Your Name-  T.Vijayshankar\n",
      "-Your Age-  44\n",
      "-Your Profession-  Asst Manager in TVS SCS\n"
     ]
    }
   ],
   "source": [
    "my_name=input(\"-Your Name- \" )\n",
    "my_age=int(input(\"-Your Age- \"))\n",
    "my_pro=input(\"-Your Profession- \")\n"
   ]
  },
  {
   "cell_type": "code",
   "execution_count": 29,
   "id": "88026415-c18d-48dd-a19a-2c2a772f7506",
   "metadata": {},
   "outputs": [
    {
     "name": "stdout",
     "output_type": "stream",
     "text": [
      "(1, 'Welcome', 2, 'Hope')\n"
     ]
    }
   ],
   "source": [
    "Tuple1 = (1, 'Welcome', 2, 'Hope')\n",
    "print(Tuple1)"
   ]
  },
  {
   "cell_type": "code",
   "execution_count": 31,
   "id": "0b6f2b8e-25cd-49a5-a5d2-7cb0085e241b",
   "metadata": {},
   "outputs": [
    {
     "name": "stdout",
     "output_type": "stream",
     "text": [
      "((0, 1, 2, 3), ('python', 'Hope'))\n"
     ]
    }
   ],
   "source": [
    "Tuple1 = (0, 1, 2, 3)\n",
    "Tuple2 = ('python', 'Hope')\n",
    "Tuple3 = (Tuple1, Tuple2)\n",
    "print(Tuple3)"
   ]
  },
  {
   "cell_type": "code",
   "execution_count": 33,
   "id": "7253f9a7-87fc-486f-b748-195276eafdef",
   "metadata": {},
   "outputs": [
    {
     "name": "stdout",
     "output_type": "stream",
     "text": [
      "19 is odd\n",
      "25 is odd\n",
      "1 is odd\n"
     ]
    }
   ],
   "source": [
    "list2=[20, 10, 16, 19, 25, 1, 276, 188]\n",
    "for num in list2:\n",
    "    if num % 2 != 0:\n",
    "        print(num,'is odd')"
   ]
  },
  {
   "cell_type": "code",
   "execution_count": 35,
   "id": "31aa3b19-f5ad-4c21-9db7-700f501395b8",
   "metadata": {},
   "outputs": [
    {
     "name": "stdout",
     "output_type": "stream",
     "text": [
      "20 is Even\n",
      "10 is Even\n",
      "16 is Even\n",
      "276 is Even\n",
      "188 is Even\n"
     ]
    }
   ],
   "source": [
    "list2=[20, 10, 16, 19, 25, 1, 276, 188]\n",
    "for num in list2:\n",
    "    if num % 2 == 0:\n",
    "        print(num,'is Even')"
   ]
  },
  {
   "cell_type": "code",
   "execution_count": null,
   "id": "69f6294c-c886-4ba6-bb28-21572cefae14",
   "metadata": {},
   "outputs": [],
   "source": []
  }
 ],
 "metadata": {
  "kernelspec": {
   "display_name": "Python 3 (ipykernel)",
   "language": "python",
   "name": "python3"
  },
  "language_info": {
   "codemirror_mode": {
    "name": "ipython",
    "version": 3
   },
   "file_extension": ".py",
   "mimetype": "text/x-python",
   "name": "python",
   "nbconvert_exporter": "python",
   "pygments_lexer": "ipython3",
   "version": "3.12.4"
  }
 },
 "nbformat": 4,
 "nbformat_minor": 5
}
