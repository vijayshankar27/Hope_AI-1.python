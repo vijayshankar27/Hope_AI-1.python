{
 "cells": [
  {
   "cell_type": "code",
   "execution_count": 1,
   "id": "26dba6b5-061a-4194-bae2-66b8c428a8ae",
   "metadata": {},
   "outputs": [
    {
     "name": "stdout",
     "output_type": "stream",
     "text": [
      "Welcome to Assignment-1\n"
     ]
    }
   ],
   "source": [
    "print('Welcome to Assignment-1')"
   ]
  },
  {
   "cell_type": "code",
   "execution_count": 3,
   "id": "4f2f4879-e6eb-4c70-a074-0176fdfbfe53",
   "metadata": {},
   "outputs": [
    {
     "name": "stdout",
     "output_type": "stream",
     "text": [
      "Num1= 10\n",
      "Num2= 30\n",
      "add= 40\n"
     ]
    }
   ],
   "source": [
    "Num1=10\n",
    "Num2=30\n",
    "print('Num1=',Num1)\n",
    "print('Num2=',Num2)\n",
    "print('add=',Num1+Num2)\n"
   ]
  },
  {
   "cell_type": "code",
   "execution_count": null,
   "id": "a8c2dc9d-a449-40d6-9339-26b2b0d87dd9",
   "metadata": {},
   "outputs": [],
   "source": [
    "#body mass index"
   ]
  },
  {
   "cell_type": "code",
   "execution_count": 9,
   "id": "ef24421e-246c-4060-9980-57fafd9c8b69",
   "metadata": {},
   "outputs": [
    {
     "name": "stdin",
     "output_type": "stream",
     "text": [
      "Enter the BMI Index: 34\n"
     ]
    },
    {
     "name": "stdout",
     "output_type": "stream",
     "text": [
      "Very Overweight\n"
     ]
    }
   ],
   "source": [
    "BMI=int(input(\"Enter the BMI Index:\"))\n",
    "if BMI<=18:\n",
    "    print(\"Underweight\")\n",
    "elif BMI<=25:\n",
    "    print(\"Normal\")\n",
    "elif BMI<=30:\n",
    "    print(\"Overweight\")\n",
    "else:\n",
    "    print(\"Very Overweight\")\n"
   ]
  },
  {
   "cell_type": "code",
   "execution_count": null,
   "id": "c78f6a9f-f863-448a-bd5c-a85b123572d2",
   "metadata": {},
   "outputs": [],
   "source": []
  }
 ],
 "metadata": {
  "kernelspec": {
   "display_name": "Python 3 (ipykernel)",
   "language": "python",
   "name": "python3"
  },
  "language_info": {
   "codemirror_mode": {
    "name": "ipython",
    "version": 3
   },
   "file_extension": ".py",
   "mimetype": "text/x-python",
   "name": "python",
   "nbconvert_exporter": "python",
   "pygments_lexer": "ipython3",
   "version": "3.12.4"
  }
 },
 "nbformat": 4,
 "nbformat_minor": 5
}
