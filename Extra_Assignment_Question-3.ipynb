{
 "cells": [
  {
   "cell_type": "code",
   "execution_count": 1,
   "id": "41f78c93-a315-4afe-84c2-f7de38523af7",
   "metadata": {},
   "outputs": [],
   "source": [
    "# print 'CORRECT' if i == 10"
   ]
  },
  {
   "cell_type": "code",
   "execution_count": 5,
   "id": "2320802e-45ea-44f1-89d7-46b855e09d79",
   "metadata": {},
   "outputs": [
    {
     "name": "stdin",
     "output_type": "stream",
     "text": [
      "value: 10\n"
     ]
    },
    {
     "name": "stdout",
     "output_type": "stream",
     "text": [
      "Corret\n"
     ]
    }
   ],
   "source": [
    "value=int(input('value:'))\n",
    "if value == 10:\n",
    "    print(\"Corret\")\n",
    "else:\n",
    "    print(\"Incorrect\")"
   ]
  },
  {
   "cell_type": "code",
   "execution_count": 9,
   "id": "7b759b6b-97da-436d-8009-77104f409aef",
   "metadata": {},
   "outputs": [
    {
     "name": "stdin",
     "output_type": "stream",
     "text": [
      "Enter the password: HOPE@123\n"
     ]
    },
    {
     "name": "stdout",
     "output_type": "stream",
     "text": [
      "Your password is correct\n"
     ]
    }
   ],
   "source": [
    "# Check the password, using if and else\n",
    "password=input('Enter the password:')\n",
    "if password == \"HOPE@123\":\n",
    "    print('Your password is correct')\n",
    "else:\n",
    "    print('Your password is not correct') \n",
    "    "
   ]
  },
  {
   "cell_type": "code",
   "execution_count": 11,
   "id": "dc4aaf51-0324-448d-b0b1-46afde4c1211",
   "metadata": {},
   "outputs": [
    {
     "name": "stdin",
     "output_type": "stream",
     "text": [
      "age: 20\n"
     ]
    },
    {
     "name": "stdout",
     "output_type": "stream",
     "text": [
      "Adult\n"
     ]
    }
   ],
   "source": [
    "# Catagory the people by their age like children, adult, citizen, senior citizen...\n",
    "age=int(input('age:'))\n",
    "if age < 18:\n",
    "    print( \"Child\")\n",
    "elif 18 <= age < 35:\n",
    "    print( \"Adult\")\n",
    "elif 35 <= age < 60:\n",
    "    print( \"Citizen\")\n",
    "else:\n",
    "    print (\"Senior Citizen\")"
   ]
  },
  {
   "cell_type": "code",
   "execution_count": 23,
   "id": "173965c1-5abb-466d-abff-63bcfcae9903",
   "metadata": {},
   "outputs": [
    {
     "name": "stdin",
     "output_type": "stream",
     "text": [
      "Enter any number: 1\n"
     ]
    },
    {
     "name": "stdout",
     "output_type": "stream",
     "text": [
      "No is positive\n"
     ]
    }
   ],
   "source": [
    "# Find whether given number is positive or negative\n",
    "num1=int(input('Enter any number:'))\n",
    "if num1 < 0:\n",
    "    print( \"No is Negative\")\n",
    "elif  num1 > 0:\n",
    "    print( \"No is positive\")\n",
    "else:\n",
    "    print( \"No is Zero\")\n"
   ]
  },
  {
   "cell_type": "code",
   "execution_count": 25,
   "id": "b06df46e-1002-4b2b-aa6d-21ece7aef234",
   "metadata": {},
   "outputs": [
    {
     "name": "stdin",
     "output_type": "stream",
     "text": [
      "Enter any number: 22\n"
     ]
    },
    {
     "name": "stdout",
     "output_type": "stream",
     "text": [
      "No. is not divisible by 5\n"
     ]
    }
   ],
   "source": [
    "# Check whether the given number is divisible by 5\n",
    "num2=int(input('Enter any number:'))\n",
    "if num2 % 5 == 0:\n",
    "    print( \"Yes, No. is  divisible by 5\")\n",
    "else:\n",
    "    print( \"No. is not divisible by 5\")\n",
    "\n"
   ]
  },
  {
   "cell_type": "code",
   "execution_count": null,
   "id": "f1b0454a-a97b-47b0-bd50-db83f969a696",
   "metadata": {},
   "outputs": [],
   "source": []
  }
 ],
 "metadata": {
  "kernelspec": {
   "display_name": "Python 3 (ipykernel)",
   "language": "python",
   "name": "python3"
  },
  "language_info": {
   "codemirror_mode": {
    "name": "ipython",
    "version": 3
   },
   "file_extension": ".py",
   "mimetype": "text/x-python",
   "name": "python",
   "nbconvert_exporter": "python",
   "pygments_lexer": "ipython3",
   "version": "3.12.4"
  }
 },
 "nbformat": 4,
 "nbformat_minor": 5
}
