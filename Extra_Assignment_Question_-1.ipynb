{
 "cells": [
  {
   "cell_type": "code",
   "execution_count": 1,
   "id": "b09fb703-21d2-4fd1-9abb-b3fc36ee382d",
   "metadata": {},
   "outputs": [
    {
     "name": "stdout",
     "output_type": "stream",
     "text": [
      "HOPE AI\n"
     ]
    }
   ],
   "source": [
    "print(\"HOPE AI\")"
   ]
  },
  {
   "cell_type": "code",
   "execution_count": 3,
   "id": "daa272b7-4845-4cef-85f6-15b4469f529c",
   "metadata": {},
   "outputs": [
    {
     "name": "stdin",
     "output_type": "stream",
     "text": [
      "Enter your institute name? : HOPE AI\n"
     ]
    },
    {
     "name": "stdout",
     "output_type": "stream",
     "text": [
      "HOPE AI\n"
     ]
    }
   ],
   "source": [
    "print(input(\"Enter your institute name? :\"))"
   ]
  },
  {
   "cell_type": "code",
   "execution_count": 5,
   "id": "52e8a8ff-b0b9-4ff4-acbf-5674501f673a",
   "metadata": {},
   "outputs": [
    {
     "name": "stdin",
     "output_type": "stream",
     "text": [
      "Enter your name: Vijayshankar\n"
     ]
    },
    {
     "name": "stdout",
     "output_type": "stream",
     "text": [
      "Vijayshankar\n"
     ]
    },
    {
     "name": "stdin",
     "output_type": "stream",
     "text": [
      "Enter your age: 44\n"
     ]
    },
    {
     "name": "stdout",
     "output_type": "stream",
     "text": [
      "44\n"
     ]
    },
    {
     "name": "stdin",
     "output_type": "stream",
     "text": [
      "Enter your school name: Guru school\n"
     ]
    },
    {
     "name": "stdout",
     "output_type": "stream",
     "text": [
      "Guru school\n"
     ]
    },
    {
     "name": "stdin",
     "output_type": "stream",
     "text": [
      "Enter your drgree: B.Tech\n"
     ]
    },
    {
     "name": "stdout",
     "output_type": "stream",
     "text": [
      "B.Tech\n"
     ]
    }
   ],
   "source": [
    "print(input(\"Enter your name:\"))\n",
    "print(int(input(\"Enter your age:\")))\n",
    "print(input(\"Enter your school name:\"))\n",
    "print(input(\"Enter your drgree:\"))"
   ]
  },
  {
   "cell_type": "code",
   "execution_count": 7,
   "id": "1a996613-9e0a-45fb-bc0e-72ea326cce3b",
   "metadata": {},
   "outputs": [],
   "source": [
    "#Addition"
   ]
  },
  {
   "cell_type": "code",
   "execution_count": 9,
   "id": "ff4e338d-18a3-4d85-9d5f-769718687d00",
   "metadata": {},
   "outputs": [
    {
     "name": "stdout",
     "output_type": "stream",
     "text": [
      "77\n"
     ]
    }
   ],
   "source": [
    "a= 43\n",
    "b= 34\n",
    "add = a+b\n",
    "print(add)"
   ]
  },
  {
   "cell_type": "code",
   "execution_count": 11,
   "id": "d9dbd145-f121-41b2-8b16-7abe1ff1b78a",
   "metadata": {},
   "outputs": [
    {
     "name": "stdout",
     "output_type": "stream",
     "text": [
      "9\n"
     ]
    }
   ],
   "source": [
    "a= 43\n",
    "b= 34\n",
    "Sub = a-b\n",
    "print(Sub)"
   ]
  },
  {
   "cell_type": "code",
   "execution_count": 13,
   "id": "680232da-5c2b-4852-b29c-66e7358c5c87",
   "metadata": {},
   "outputs": [
    {
     "name": "stdin",
     "output_type": "stream",
     "text": [
      "a= 3\n",
      "b= 4\n"
     ]
    },
    {
     "name": "stdout",
     "output_type": "stream",
     "text": [
      "12\n"
     ]
    }
   ],
   "source": [
    "a= int(input(\"a=\"))\n",
    "b=int(input(\"b=\"))\n",
    "mul = a*b\n",
    "print(mul)"
   ]
  },
  {
   "cell_type": "code",
   "execution_count": 15,
   "id": "5985f50d-f8be-4d41-8fe6-ebebcbb99f36",
   "metadata": {},
   "outputs": [
    {
     "name": "stdin",
     "output_type": "stream",
     "text": [
      "a= 10\n",
      "b= 2\n"
     ]
    },
    {
     "name": "stdout",
     "output_type": "stream",
     "text": [
      "5.0\n"
     ]
    }
   ],
   "source": [
    "a= int(input(\"a=\"))\n",
    "b=int(input(\"b=\"))\n",
    "div = a/b\n",
    "print(div)"
   ]
  },
  {
   "cell_type": "code",
   "execution_count": 19,
   "id": "779424cb-639a-492a-bc07-88a5c71d5b61",
   "metadata": {},
   "outputs": [
    {
     "name": "stdin",
     "output_type": "stream",
     "text": [
      "a= 76\n",
      "b= 31\n"
     ]
    },
    {
     "name": "stdout",
     "output_type": "stream",
     "text": [
      "2\n"
     ]
    }
   ],
   "source": [
    "#Floor division\n",
    "a= int(input(\"a=\"))\n",
    "b=int(input(\"b=\"))\n",
    "fdiv = a//b\n",
    "print(fdiv)"
   ]
  },
  {
   "cell_type": "code",
   "execution_count": 21,
   "id": "7961e399-833e-44ba-bfe6-98d5c5ff194a",
   "metadata": {},
   "outputs": [
    {
     "name": "stdin",
     "output_type": "stream",
     "text": [
      "a= 76\n",
      "b= 31\n"
     ]
    },
    {
     "name": "stdout",
     "output_type": "stream",
     "text": [
      "14\n"
     ]
    }
   ],
   "source": [
    "#Modulo\n",
    "a= int(input(\"a=\"))\n",
    "b=int(input(\"b=\"))\n",
    "Modulo = a%b\n",
    "print(Modulo)\n"
   ]
  },
  {
   "cell_type": "code",
   "execution_count": null,
   "id": "2c06e636-da70-4b91-9c6b-a056673f1279",
   "metadata": {},
   "outputs": [],
   "source": []
  }
 ],
 "metadata": {
  "kernelspec": {
   "display_name": "Python 3 (ipykernel)",
   "language": "python",
   "name": "python3"
  },
  "language_info": {
   "codemirror_mode": {
    "name": "ipython",
    "version": 3
   },
   "file_extension": ".py",
   "mimetype": "text/x-python",
   "name": "python",
   "nbconvert_exporter": "python",
   "pygments_lexer": "ipython3",
   "version": "3.12.4"
  }
 },
 "nbformat": 4,
 "nbformat_minor": 5
}
